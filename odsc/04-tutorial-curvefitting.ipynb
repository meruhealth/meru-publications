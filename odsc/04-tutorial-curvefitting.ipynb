{
 "cells": [
  {
   "cell_type": "markdown",
   "metadata": {},
   "source": [
    "# ODSC West 2022 Tutorial: \n",
    "### Objective: Apply a nonlinear least-squares curve-fitting model with a sinusoidal form to the data\n",
    "- Kirstin Aschbacher\n",
    "- Oct 2022"
   ]
  },
  {
   "cell_type": "code",
   "execution_count": 1,
   "metadata": {},
   "outputs": [
    {
     "data": {
      "text/plain": [
       "<contextlib._GeneratorContextManager at 0x7f7e4bef2970>"
      ]
     },
     "execution_count": 1,
     "metadata": {},
     "output_type": "execute_result"
    }
   ],
   "source": [
    "from typing import List\n",
    "import pandas as pd\n",
    "import numpy as np\n",
    "import matplotlib.pyplot as plt\n",
    "# from astropy.timeseries import LombScargle\n",
    "from scipy import signal, optimize\n",
    "\n",
    "pd.set_option(\"display.width\", 500)\n",
    "np.printoptions(\"precision\", 2)"
   ]
  }
 ],
 "metadata": {
  "kernelspec": {
   "display_name": "Python 3.9.13 ('hrv')",
   "language": "python",
   "name": "python3"
  },
  "language_info": {
   "codemirror_mode": {
    "name": "ipython",
    "version": 3
   },
   "file_extension": ".py",
   "mimetype": "text/x-python",
   "name": "python",
   "nbconvert_exporter": "python",
   "pygments_lexer": "ipython3",
   "version": "3.9.13"
  },
  "orig_nbformat": 4,
  "vscode": {
   "interpreter": {
    "hash": "e7bf01ae29d3f400d96a2e8e3a194006730797a03cf877c3ed2fa747732aa1a3"
   }
  }
 },
 "nbformat": 4,
 "nbformat_minor": 2
}
